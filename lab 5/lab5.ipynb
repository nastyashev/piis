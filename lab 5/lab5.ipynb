{
 "cells": [
  {
   "cell_type": "code",
   "execution_count": 1,
   "metadata": {},
   "outputs": [],
   "source": [
    "from selenium import webdriver\n",
    "import spacy"
   ]
  },
  {
   "cell_type": "markdown",
   "metadata": {},
   "source": [
    "Initializing web driver"
   ]
  },
  {
   "cell_type": "code",
   "execution_count": 2,
   "metadata": {},
   "outputs": [],
   "source": [
    "driver = webdriver.Chrome()\n",
    "driver.get(\"https://pestrecy-rt.ru/news/tag/list/specoperaciia/\")"
   ]
  },
  {
   "cell_type": "code",
   "execution_count": 3,
   "metadata": {},
   "outputs": [],
   "source": [
    "nlps = spacy.load(\"ru_core_news_md\")"
   ]
  },
  {
   "cell_type": "markdown",
   "metadata": {},
   "source": [
    "The Python code consists of two functions:\n",
    "\n",
    "1. `get_news(link)`: This function uses Selenium to scrape news titles and texts from a given link. It finds elements using XPath and returns a combined string of the title and text.\n",
    "\n",
    "2. `get_names(text)`: This function uses the Natural Language Processing library (presumably spaCy) to extract named entities (specifically, person names) from a given text. It returns a list of unique names."
   ]
  },
  {
   "cell_type": "code",
   "execution_count": 4,
   "metadata": {},
   "outputs": [],
   "source": [
    "def get_news(link):\n",
    "    titles = link.find_element(\"xpath\", \".//a/div[1]/h2\").text\n",
    "    texts = link.find_element(\"xpath\", \".//a/div[1]/p\").text\n",
    "    return titles + \"\\n\" + texts\n",
    "\n",
    "def get_names(text):\n",
    "    doc = nlps(text)\n",
    "    names = []\n",
    "    for ent in doc.ents:\n",
    "        if ent.label_ == \"PER\":\n",
    "            names.append(ent.text)\n",
    "    return list(set(names))"
   ]
  },
  {
   "cell_type": "markdown",
   "metadata": {},
   "source": [
    "The Python function `scrape_news()` is used to scrape news from a webpage. It finds a list of news items on the page, parses each news item using the `get_news()` function, and checks for specific keywords related to death. If any of these keywords are found in a news item, it extracts and prints the names of people mentioned in the item using the `get_names()` function."
   ]
  },
  {
   "cell_type": "code",
   "execution_count": 5,
   "metadata": {},
   "outputs": [],
   "source": [
    "def scrape_news():\n",
    "    news_ul = driver.find_element(\"xpath\", \"/html/body/main/ul\")\n",
    "    news = news_ul.find_elements(\"xpath\", \".//li\")\n",
    "    parsed_news = [get_news(link) for link in news]\n",
    "    keywords = [\"погиб\", \"смерть\", \"простились\", \"погибшим\", \"умер\"]\n",
    "    for item in parsed_news:\n",
    "        if any(keyword in item for keyword in keywords):\n",
    "            for name in get_names(item):\n",
    "                print(name)"
   ]
  },
  {
   "cell_type": "code",
   "execution_count": 6,
   "metadata": {},
   "outputs": [
    {
     "name": "stdout",
     "output_type": "stream",
     "text": [
      "Юрия Ивановича\n",
      "Валерий\n",
      "Марии Ивановны М.\n",
      "Алексей\n",
      "Елена Корчагина\n",
      "Сергей Корчагин\n",
      "Артема Прокопчука\n",
      "Александром Агафоновым\n",
      "Ему\n",
      "Валерием Межва\n",
      "Александр Владимиров\n",
      "Минниханов\n",
      "Эдуард Вафин\n",
      "Путин\n"
     ]
    }
   ],
   "source": [
    "while True:\n",
    "    scrape_news()\n",
    "    buttons = driver.find_elements(\"xpath\", \"/html/body/main/div[2]/div/a/span\")\n",
    "    next_button = buttons[-1]\n",
    "    if next_button.text == \"Далее ❯\":\n",
    "        next_button.click()\n",
    "    else:\n",
    "        break"
   ]
  }
 ],
 "metadata": {
  "kernelspec": {
   "display_name": "Python 3",
   "language": "python",
   "name": "python3"
  },
  "language_info": {
   "codemirror_mode": {
    "name": "ipython",
    "version": 3
   },
   "file_extension": ".py",
   "mimetype": "text/x-python",
   "name": "python",
   "nbconvert_exporter": "python",
   "pygments_lexer": "ipython3",
   "version": "3.12.0"
  }
 },
 "nbformat": 4,
 "nbformat_minor": 2
}
